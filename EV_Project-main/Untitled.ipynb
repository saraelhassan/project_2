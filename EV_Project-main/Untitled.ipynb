{
 "cells": [
  {
   "cell_type": "code",
   "execution_count": 1,
   "metadata": {},
   "outputs": [],
   "source": [
    "import pandas as pd\n",
    "import numpy as np\n",
    "import matplotlib.pyplot as plt\n",
    "\n",
    "#file resource\n",
    "ev_data_pd = \"electric_vehicle_population_Data.csv\"\n"
   ]
  },
  {
   "cell_type": "code",
   "execution_count": 2,
   "metadata": {},
   "outputs": [
    {
     "data": {
      "text/html": [
       "<div>\n",
       "<style scoped>\n",
       "    .dataframe tbody tr th:only-of-type {\n",
       "        vertical-align: middle;\n",
       "    }\n",
       "\n",
       "    .dataframe tbody tr th {\n",
       "        vertical-align: top;\n",
       "    }\n",
       "\n",
       "    .dataframe thead th {\n",
       "        text-align: right;\n",
       "    }\n",
       "</style>\n",
       "<table border=\"1\" class=\"dataframe\">\n",
       "  <thead>\n",
       "    <tr style=\"text-align: right;\">\n",
       "      <th></th>\n",
       "      <th>VIN (1-10)</th>\n",
       "      <th>County</th>\n",
       "      <th>City</th>\n",
       "      <th>State</th>\n",
       "      <th>ZIP Code</th>\n",
       "      <th>Model Year</th>\n",
       "      <th>Make</th>\n",
       "      <th>Model</th>\n",
       "      <th>Electric Vehicle Type</th>\n",
       "      <th>Clean Alternative Fuel Vehicle (CAFV) Eligibility</th>\n",
       "      <th>Electric Range</th>\n",
       "      <th>Base MSRP</th>\n",
       "      <th>Legislative District</th>\n",
       "      <th>DOL Vehicle ID</th>\n",
       "      <th>Vehicle Location</th>\n",
       "    </tr>\n",
       "  </thead>\n",
       "  <tbody>\n",
       "    <tr>\n",
       "      <th>0</th>\n",
       "      <td>JA4J24A5XJ</td>\n",
       "      <td>King</td>\n",
       "      <td>KENT</td>\n",
       "      <td>WA</td>\n",
       "      <td>98032</td>\n",
       "      <td>2018</td>\n",
       "      <td>MITSUBISHI</td>\n",
       "      <td>OUTLANDER</td>\n",
       "      <td>Plug-in Hybrid Electric Vehicle (PHEV)</td>\n",
       "      <td>Not eligible due to low battery range</td>\n",
       "      <td>22</td>\n",
       "      <td>34595</td>\n",
       "      <td>33.0</td>\n",
       "      <td>245053693</td>\n",
       "      <td>POINT (-122.26132099999998 47.390601)</td>\n",
       "    </tr>\n",
       "    <tr>\n",
       "      <th>1</th>\n",
       "      <td>JN1AZ0CP7B</td>\n",
       "      <td>King</td>\n",
       "      <td>COVINGTON</td>\n",
       "      <td>WA</td>\n",
       "      <td>98042</td>\n",
       "      <td>2011</td>\n",
       "      <td>NISSAN</td>\n",
       "      <td>LEAF</td>\n",
       "      <td>Battery Electric Vehicle (BEV)</td>\n",
       "      <td>Clean Alternative Fuel Vehicle Eligible</td>\n",
       "      <td>73</td>\n",
       "      <td>32780</td>\n",
       "      <td>47.0</td>\n",
       "      <td>265513174</td>\n",
       "      <td>POINT (-122.11667400000002 47.363112)</td>\n",
       "    </tr>\n",
       "    <tr>\n",
       "      <th>2</th>\n",
       "      <td>1G1FW6S07H</td>\n",
       "      <td>Clark</td>\n",
       "      <td>CAMAS</td>\n",
       "      <td>WA</td>\n",
       "      <td>98607</td>\n",
       "      <td>2017</td>\n",
       "      <td>CHEVROLET</td>\n",
       "      <td>BOLT</td>\n",
       "      <td>Battery Electric Vehicle (BEV)</td>\n",
       "      <td>Clean Alternative Fuel Vehicle Eligible</td>\n",
       "      <td>238</td>\n",
       "      <td>37495</td>\n",
       "      <td>18.0</td>\n",
       "      <td>8930036</td>\n",
       "      <td>POINT (-122.40849800000001 45.620943)</td>\n",
       "    </tr>\n",
       "    <tr>\n",
       "      <th>3</th>\n",
       "      <td>1N4AZ0CP6D</td>\n",
       "      <td>King</td>\n",
       "      <td>SEATTLE</td>\n",
       "      <td>WA</td>\n",
       "      <td>98117</td>\n",
       "      <td>2013</td>\n",
       "      <td>NISSAN</td>\n",
       "      <td>LEAF</td>\n",
       "      <td>Battery Electric Vehicle (BEV)</td>\n",
       "      <td>Clean Alternative Fuel Vehicle Eligible</td>\n",
       "      <td>75</td>\n",
       "      <td>28800</td>\n",
       "      <td>36.0</td>\n",
       "      <td>182911767</td>\n",
       "      <td>POINT (-122.379354 47.687571)</td>\n",
       "    </tr>\n",
       "    <tr>\n",
       "      <th>4</th>\n",
       "      <td>JN1AZ0CP1B</td>\n",
       "      <td>Clark</td>\n",
       "      <td>CAMAS</td>\n",
       "      <td>WA</td>\n",
       "      <td>98607</td>\n",
       "      <td>2011</td>\n",
       "      <td>NISSAN</td>\n",
       "      <td>LEAF</td>\n",
       "      <td>Battery Electric Vehicle (BEV)</td>\n",
       "      <td>Clean Alternative Fuel Vehicle Eligible</td>\n",
       "      <td>73</td>\n",
       "      <td>32780</td>\n",
       "      <td>18.0</td>\n",
       "      <td>247761594</td>\n",
       "      <td>POINT (-122.40849800000001 45.620943)</td>\n",
       "    </tr>\n",
       "  </tbody>\n",
       "</table>\n",
       "</div>"
      ],
      "text/plain": [
       "   VIN (1-10) County       City State  ZIP Code  Model Year        Make  \\\n",
       "0  JA4J24A5XJ   King       KENT    WA     98032        2018  MITSUBISHI   \n",
       "1  JN1AZ0CP7B   King  COVINGTON    WA     98042        2011      NISSAN   \n",
       "2  1G1FW6S07H  Clark      CAMAS    WA     98607        2017   CHEVROLET   \n",
       "3  1N4AZ0CP6D   King    SEATTLE    WA     98117        2013      NISSAN   \n",
       "4  JN1AZ0CP1B  Clark      CAMAS    WA     98607        2011      NISSAN   \n",
       "\n",
       "       Model                   Electric Vehicle Type  \\\n",
       "0  OUTLANDER  Plug-in Hybrid Electric Vehicle (PHEV)   \n",
       "1       LEAF          Battery Electric Vehicle (BEV)   \n",
       "2       BOLT          Battery Electric Vehicle (BEV)   \n",
       "3       LEAF          Battery Electric Vehicle (BEV)   \n",
       "4       LEAF          Battery Electric Vehicle (BEV)   \n",
       "\n",
       "  Clean Alternative Fuel Vehicle (CAFV) Eligibility  Electric Range  \\\n",
       "0             Not eligible due to low battery range              22   \n",
       "1           Clean Alternative Fuel Vehicle Eligible              73   \n",
       "2           Clean Alternative Fuel Vehicle Eligible             238   \n",
       "3           Clean Alternative Fuel Vehicle Eligible              75   \n",
       "4           Clean Alternative Fuel Vehicle Eligible              73   \n",
       "\n",
       "   Base MSRP  Legislative District  DOL Vehicle ID  \\\n",
       "0      34595                  33.0       245053693   \n",
       "1      32780                  47.0       265513174   \n",
       "2      37495                  18.0         8930036   \n",
       "3      28800                  36.0       182911767   \n",
       "4      32780                  18.0       247761594   \n",
       "\n",
       "                        Vehicle Location  \n",
       "0  POINT (-122.26132099999998 47.390601)  \n",
       "1  POINT (-122.11667400000002 47.363112)  \n",
       "2  POINT (-122.40849800000001 45.620943)  \n",
       "3          POINT (-122.379354 47.687571)  \n",
       "4  POINT (-122.40849800000001 45.620943)  "
      ]
     },
     "execution_count": 2,
     "metadata": {},
     "output_type": "execute_result"
    }
   ],
   "source": [
    "#open and store file into pandas\n",
    "ev_data = pd.read_csv(ev_data_pd)\n",
    "\n",
    "ev_data.head()"
   ]
  },
  {
   "cell_type": "code",
   "execution_count": 3,
   "metadata": {},
   "outputs": [
    {
     "data": {
      "text/html": [
       "<div>\n",
       "<style scoped>\n",
       "    .dataframe tbody tr th:only-of-type {\n",
       "        vertical-align: middle;\n",
       "    }\n",
       "\n",
       "    .dataframe tbody tr th {\n",
       "        vertical-align: top;\n",
       "    }\n",
       "\n",
       "    .dataframe thead th {\n",
       "        text-align: right;\n",
       "    }\n",
       "</style>\n",
       "<table border=\"1\" class=\"dataframe\">\n",
       "  <thead>\n",
       "    <tr style=\"text-align: right;\">\n",
       "      <th></th>\n",
       "      <th>VIN</th>\n",
       "      <th>County</th>\n",
       "      <th>City</th>\n",
       "      <th>State</th>\n",
       "      <th>ZIP</th>\n",
       "      <th>ModelYear</th>\n",
       "      <th>Make</th>\n",
       "      <th>Model</th>\n",
       "      <th>Vehicle_Type</th>\n",
       "      <th>CAFV_Eligibility</th>\n",
       "      <th>Electric_Range</th>\n",
       "      <th>MSRP</th>\n",
       "      <th>District</th>\n",
       "      <th>Vehicle_ID</th>\n",
       "      <th>Location</th>\n",
       "    </tr>\n",
       "  </thead>\n",
       "  <tbody>\n",
       "    <tr>\n",
       "      <th>0</th>\n",
       "      <td>JA4J24A5XJ</td>\n",
       "      <td>King</td>\n",
       "      <td>KENT</td>\n",
       "      <td>WA</td>\n",
       "      <td>98032</td>\n",
       "      <td>2018</td>\n",
       "      <td>MITSUBISHI</td>\n",
       "      <td>OUTLANDER</td>\n",
       "      <td>Plug-in Hybrid Electric Vehicle (PHEV)</td>\n",
       "      <td>Not eligible due to low battery range</td>\n",
       "      <td>22</td>\n",
       "      <td>34595</td>\n",
       "      <td>33.0</td>\n",
       "      <td>245053693</td>\n",
       "      <td>POINT (-122.26132099999998 47.390601)</td>\n",
       "    </tr>\n",
       "    <tr>\n",
       "      <th>1</th>\n",
       "      <td>JN1AZ0CP7B</td>\n",
       "      <td>King</td>\n",
       "      <td>COVINGTON</td>\n",
       "      <td>WA</td>\n",
       "      <td>98042</td>\n",
       "      <td>2011</td>\n",
       "      <td>NISSAN</td>\n",
       "      <td>LEAF</td>\n",
       "      <td>Battery Electric Vehicle (BEV)</td>\n",
       "      <td>Clean Alternative Fuel Vehicle Eligible</td>\n",
       "      <td>73</td>\n",
       "      <td>32780</td>\n",
       "      <td>47.0</td>\n",
       "      <td>265513174</td>\n",
       "      <td>POINT (-122.11667400000002 47.363112)</td>\n",
       "    </tr>\n",
       "    <tr>\n",
       "      <th>2</th>\n",
       "      <td>1G1FW6S07H</td>\n",
       "      <td>Clark</td>\n",
       "      <td>CAMAS</td>\n",
       "      <td>WA</td>\n",
       "      <td>98607</td>\n",
       "      <td>2017</td>\n",
       "      <td>CHEVROLET</td>\n",
       "      <td>BOLT</td>\n",
       "      <td>Battery Electric Vehicle (BEV)</td>\n",
       "      <td>Clean Alternative Fuel Vehicle Eligible</td>\n",
       "      <td>238</td>\n",
       "      <td>37495</td>\n",
       "      <td>18.0</td>\n",
       "      <td>8930036</td>\n",
       "      <td>POINT (-122.40849800000001 45.620943)</td>\n",
       "    </tr>\n",
       "    <tr>\n",
       "      <th>3</th>\n",
       "      <td>1N4AZ0CP6D</td>\n",
       "      <td>King</td>\n",
       "      <td>SEATTLE</td>\n",
       "      <td>WA</td>\n",
       "      <td>98117</td>\n",
       "      <td>2013</td>\n",
       "      <td>NISSAN</td>\n",
       "      <td>LEAF</td>\n",
       "      <td>Battery Electric Vehicle (BEV)</td>\n",
       "      <td>Clean Alternative Fuel Vehicle Eligible</td>\n",
       "      <td>75</td>\n",
       "      <td>28800</td>\n",
       "      <td>36.0</td>\n",
       "      <td>182911767</td>\n",
       "      <td>POINT (-122.379354 47.687571)</td>\n",
       "    </tr>\n",
       "    <tr>\n",
       "      <th>4</th>\n",
       "      <td>JN1AZ0CP1B</td>\n",
       "      <td>Clark</td>\n",
       "      <td>CAMAS</td>\n",
       "      <td>WA</td>\n",
       "      <td>98607</td>\n",
       "      <td>2011</td>\n",
       "      <td>NISSAN</td>\n",
       "      <td>LEAF</td>\n",
       "      <td>Battery Electric Vehicle (BEV)</td>\n",
       "      <td>Clean Alternative Fuel Vehicle Eligible</td>\n",
       "      <td>73</td>\n",
       "      <td>32780</td>\n",
       "      <td>18.0</td>\n",
       "      <td>247761594</td>\n",
       "      <td>POINT (-122.40849800000001 45.620943)</td>\n",
       "    </tr>\n",
       "  </tbody>\n",
       "</table>\n",
       "</div>"
      ],
      "text/plain": [
       "          VIN County       City State    ZIP  ModelYear        Make  \\\n",
       "0  JA4J24A5XJ   King       KENT    WA  98032       2018  MITSUBISHI   \n",
       "1  JN1AZ0CP7B   King  COVINGTON    WA  98042       2011      NISSAN   \n",
       "2  1G1FW6S07H  Clark      CAMAS    WA  98607       2017   CHEVROLET   \n",
       "3  1N4AZ0CP6D   King    SEATTLE    WA  98117       2013      NISSAN   \n",
       "4  JN1AZ0CP1B  Clark      CAMAS    WA  98607       2011      NISSAN   \n",
       "\n",
       "       Model                            Vehicle_Type  \\\n",
       "0  OUTLANDER  Plug-in Hybrid Electric Vehicle (PHEV)   \n",
       "1       LEAF          Battery Electric Vehicle (BEV)   \n",
       "2       BOLT          Battery Electric Vehicle (BEV)   \n",
       "3       LEAF          Battery Electric Vehicle (BEV)   \n",
       "4       LEAF          Battery Electric Vehicle (BEV)   \n",
       "\n",
       "                          CAFV_Eligibility  Electric_Range   MSRP  District  \\\n",
       "0    Not eligible due to low battery range              22  34595      33.0   \n",
       "1  Clean Alternative Fuel Vehicle Eligible              73  32780      47.0   \n",
       "2  Clean Alternative Fuel Vehicle Eligible             238  37495      18.0   \n",
       "3  Clean Alternative Fuel Vehicle Eligible              75  28800      36.0   \n",
       "4  Clean Alternative Fuel Vehicle Eligible              73  32780      18.0   \n",
       "\n",
       "   Vehicle_ID                               Location  \n",
       "0   245053693  POINT (-122.26132099999998 47.390601)  \n",
       "1   265513174  POINT (-122.11667400000002 47.363112)  \n",
       "2     8930036  POINT (-122.40849800000001 45.620943)  \n",
       "3   182911767          POINT (-122.379354 47.687571)  \n",
       "4   247761594  POINT (-122.40849800000001 45.620943)  "
      ]
     },
     "execution_count": 3,
     "metadata": {},
     "output_type": "execute_result"
    }
   ],
   "source": [
    "# Find the counts of hybrids vs. Battery electric\n",
    "ev_data.rename(columns= {'VIN (1-10)': 'VIN', 'ZIP Code': 'ZIP', \n",
    "                         'Model Year': 'ModelYear', 'Electric Vehicle Type': 'Vehicle_Type', \n",
    "                         'Clean Alternative Fuel Vehicle (CAFV) Eligibility': 'CAFV_Eligibility',\n",
    "                         'Electric Range': 'Electric_Range', 'Base MSRP': 'MSRP', \n",
    "                         'Legislative District': 'District', 'DOL Vehicle ID': 'Vehicle_ID', 'Vehicle Location': 'Location'}, inplace=True)\n",
    "ev_data.head()"
   ]
  },
  {
   "cell_type": "code",
   "execution_count": 4,
   "metadata": {},
   "outputs": [
    {
     "data": {
      "text/plain": [
       "Vehicle_Type\n",
       "Battery Electric Vehicle (BEV)            42861\n",
       "Plug-in Hybrid Electric Vehicle (PHEV)    18067\n",
       "Name: Vehicle_ID, dtype: int64"
      ]
     },
     "execution_count": 4,
     "metadata": {},
     "output_type": "execute_result"
    }
   ],
   "source": [
    "Hybrid_count = ev_data.groupby('Vehicle_Type')['Vehicle_ID'].count()\n",
    "Hybrid_count\n"
   ]
  },
  {
   "cell_type": "code",
   "execution_count": 5,
   "metadata": {
    "scrolled": true
   },
   "outputs": [
    {
     "data": {
      "text/plain": [
       "Text(0, 0.5, 'Count of Vehicles')"
      ]
     },
     "execution_count": 5,
     "metadata": {},
     "output_type": "execute_result"
    },
    {
     "data": {
      "image/png": "[encoded data removed]",
      "text/plain": [
       "<Figure size 432x288 with 1 Axes>"
      ]
     },
     "metadata": {
      "needs_background": "light"
     },
     "output_type": "display_data"
    }
   ],
   "source": [
    "\n",
    "count_list = []\n",
    "count_list.append (Hybrid_count[0])\n",
    "count_list.append (Hybrid_count[1])\n",
    "type_list = [\"Battery Electric Vehicle (BEV)\", \"Plug-in Hybrid Electric Vehicle (PHEV)\"]\n",
    "plt.bar (type_list, count_list)\n",
    "plt.title (\"Electric VS Hybrid\")\n",
    "plt.xlabel (\"Vehicle Type\")\n",
    "plt.ylabel (\"Count of Vehicles\")\n"
   ]
  },
  {
   "cell_type": "code",
   "execution_count": 6,
   "metadata": {},
   "outputs": [
    {
     "data": {
      "text/plain": [
       "TESLA                   23434\n",
       "NISSAN                  11065\n",
       "CHEVROLET                8048\n",
       "FORD                     3631\n",
       "TOYOTA                   2756\n",
       "BMW                      2593\n",
       "KIA                      2204\n",
       "AUDI                      982\n",
       "VOLKSWAGEN                947\n",
       "HYUNDAI                   857\n",
       "CHRYSLER                  740\n",
       "FIAT                      732\n",
       "HONDA                     636\n",
       "VOLVO                     542\n",
       "MITSUBISHI                438\n",
       "PORSCHE                   305\n",
       "SMART                     241\n",
       "MERCEDES-BENZ             235\n",
       "MINI                      168\n",
       "JAGUAR                    165\n",
       "CADILLAC                   92\n",
       "SUBARU                     42\n",
       "LAND ROVER                 28\n",
       "FISKER                     17\n",
       "LINCOLN                    14\n",
       "AZURE DYNAMICS              9\n",
       "TH!NK                       3\n",
       "WHEEGO ELECTRIC CARS        2\n",
       "BENTLEY                     1\n",
       "DODGE                       1\n",
       "Name: Make, dtype: int64"
      ]
     },
     "execution_count": 6,
     "metadata": {},
     "output_type": "execute_result"
    }
   ],
   "source": [
    "#Most popular \n",
    "ev_data [\"Make\"].value_counts()\n"
   ]
  },
  {
   "cell_type": "code",
   "execution_count": 7,
   "metadata": {},
   "outputs": [
    {
     "data": {
      "text/plain": [
       "MODEL 3                                13060\n",
       "LEAF                                   11065\n",
       "MODEL S                                 5858\n",
       "VOLT                                    4729\n",
       "MODEL X                                 2907\n",
       "                                       ...  \n",
       "FUSION SPECIAL SERVICE VEHICLE PHEV        1\n",
       "918 SPYDER                                 1\n",
       "BENTAYGA HYBRID                            1\n",
       "PRIUS PLUG-IN HYBRID                       1\n",
       "I8                                         1\n",
       "Name: Model, Length: 101, dtype: int64"
      ]
     },
     "execution_count": 7,
     "metadata": {},
     "output_type": "execute_result"
    }
   ],
   "source": [
    "ev_data [\"Model\"].value_counts()"
   ]
  },
  {
   "cell_type": "code",
   "execution_count": 8,
   "metadata": {},
   "outputs": [
    {
     "data": {
      "text/html": [
       "<div>\n",
       "<style scoped>\n",
       "    .dataframe tbody tr th:only-of-type {\n",
       "        vertical-align: middle;\n",
       "    }\n",
       "\n",
       "    .dataframe tbody tr th {\n",
       "        vertical-align: top;\n",
       "    }\n",
       "\n",
       "    .dataframe thead th {\n",
       "        text-align: right;\n",
       "    }\n",
       "</style>\n",
       "<table border=\"1\" class=\"dataframe\">\n",
       "  <thead>\n",
       "    <tr style=\"text-align: right;\">\n",
       "      <th></th>\n",
       "      <th>Make</th>\n",
       "      <th>counts</th>\n",
       "    </tr>\n",
       "  </thead>\n",
       "  <tbody>\n",
       "    <tr>\n",
       "      <th>0</th>\n",
       "      <td>TESLA</td>\n",
       "      <td>23434</td>\n",
       "    </tr>\n",
       "    <tr>\n",
       "      <th>1</th>\n",
       "      <td>NISSAN</td>\n",
       "      <td>11065</td>\n",
       "    </tr>\n",
       "    <tr>\n",
       "      <th>2</th>\n",
       "      <td>CHEVROLET</td>\n",
       "      <td>8048</td>\n",
       "    </tr>\n",
       "    <tr>\n",
       "      <th>3</th>\n",
       "      <td>FORD</td>\n",
       "      <td>3631</td>\n",
       "    </tr>\n",
       "    <tr>\n",
       "      <th>4</th>\n",
       "      <td>TOYOTA</td>\n",
       "      <td>2756</td>\n",
       "    </tr>\n",
       "  </tbody>\n",
       "</table>\n",
       "</div>"
      ],
      "text/plain": [
       "        Make  counts\n",
       "0      TESLA   23434\n",
       "1     NISSAN   11065\n",
       "2  CHEVROLET    8048\n",
       "3       FORD    3631\n",
       "4     TOYOTA    2756"
      ]
     },
     "execution_count": 8,
     "metadata": {},
     "output_type": "execute_result"
    }
   ],
   "source": [
    "df = ev_data[\"Make\"].value_counts().rename_axis(\"Make\").reset_index(name= \"counts\")\n",
    "\n",
    "\n",
    "df.head()\n"
   ]
  },
  {
   "cell_type": "code",
   "execution_count": 13,
   "metadata": {},
   "outputs": [
    {
     "data": {
      "text/plain": [
       "Text(0, 0.5, 'counts')"
      ]
     },
     "execution_count": 13,
     "metadata": {},
     "output_type": "execute_result"
    },
    {
     "data": {
      "image/png": "[encoded data removed]",
      "text/plain": [
       "<Figure size 1440x216 with 1 Axes>"
      ]
     },
     "metadata": {
      "needs_background": "light"
     },
     "output_type": "display_data"
    }
   ],
   "source": [
    "#model_count = ev_data [\"Make\"].value_counts()\n",
    "#print (make_count)\n",
    "#print (make_count[0])\n",
    "#plt.bar(df[\"Make\"], df[\"counts\"])\n",
    "\n",
    "x_axis = np.arange(len(df))\n",
    "tick_locations = [value+0.4 for value in x_axis]\n",
    "\n",
    "plt.figure(figsize=(20,3))\n",
    "plt.bar(df[\"Make\"], df[\"counts\"], color='b', alpha= 1, align=\"edge\")\n",
    "plt.xticks ( tick_locations, df[\"Make\"], rotation=\"vertical\")\n",
    "\n",
    "plt.xlim(-0.75, len(x_axis))\n",
    "plt.ylim(0, max(df[\"counts\"])+75)\n",
    "\n",
    "plt.title(\"Make counts\")\n",
    "plt.xlabel(\"Make\")\n",
    "plt.ylabel(\"counts\")\n"
   ]
  },
  {
   "cell_type": "code",
   "execution_count": null,
   "metadata": {},
   "outputs": [],
   "source": []
  }
 ],
 "metadata": {
  "kernelspec": {
   "display_name": "Python 3",
   "language": "python",
   "name": "python3"
  },
  "language_info": {
   "codemirror_mode": {
    "name": "ipython",
    "version": 3
   },
   "file_extension": ".py",
   "mimetype": "text/x-python",
   "name": "python",
   "nbconvert_exporter": "python",
   "pygments_lexer": "ipython3",
   "version": "3.8.3"
  }
 },
 "nbformat": 4,
 "nbformat_minor": 4
}
